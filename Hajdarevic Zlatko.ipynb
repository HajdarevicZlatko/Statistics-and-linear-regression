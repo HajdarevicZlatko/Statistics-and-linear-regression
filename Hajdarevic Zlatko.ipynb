{
 "cells": [
  {
   "cell_type": "code",
   "execution_count": 44,
   "metadata": {},
   "outputs": [],
   "source": [
    "### Projekat Statistika Hajdarevic Zlatko 2016203000"
   ]
  },
  {
   "cell_type": "code",
   "execution_count": 45,
   "metadata": {},
   "outputs": [
    {
     "name": "stdout",
     "output_type": "stream",
     "text": [
      "C:\\\n"
     ]
    }
   ],
   "source": [
    "cd ../.."
   ]
  },
  {
   "cell_type": "code",
   "execution_count": 54,
   "metadata": {},
   "outputs": [
    {
     "data": {
      "text/html": [
       "<div>\n",
       "<style scoped>\n",
       "    .dataframe tbody tr th:only-of-type {\n",
       "        vertical-align: middle;\n",
       "    }\n",
       "\n",
       "    .dataframe tbody tr th {\n",
       "        vertical-align: top;\n",
       "    }\n",
       "\n",
       "    .dataframe thead th {\n",
       "        text-align: right;\n",
       "    }\n",
       "</style>\n",
       "<table border=\"1\" class=\"dataframe\">\n",
       "  <thead>\n",
       "    <tr style=\"text-align: right;\">\n",
       "      <th></th>\n",
       "      <th>price</th>\n",
       "      <th>sqft_living</th>\n",
       "      <th>condition</th>\n",
       "      <th>zipcode</th>\n",
       "    </tr>\n",
       "  </thead>\n",
       "  <tbody>\n",
       "    <tr>\n",
       "      <th>11553</th>\n",
       "      <td>299999.0</td>\n",
       "      <td>2380</td>\n",
       "      <td>3</td>\n",
       "      <td>98001</td>\n",
       "    </tr>\n",
       "    <tr>\n",
       "      <th>18935</th>\n",
       "      <td>460000.0</td>\n",
       "      <td>2720</td>\n",
       "      <td>3</td>\n",
       "      <td>98001</td>\n",
       "    </tr>\n",
       "    <tr>\n",
       "      <th>16355</th>\n",
       "      <td>295000.0</td>\n",
       "      <td>1940</td>\n",
       "      <td>3</td>\n",
       "      <td>98001</td>\n",
       "    </tr>\n",
       "    <tr>\n",
       "      <th>6819</th>\n",
       "      <td>269500.0</td>\n",
       "      <td>1700</td>\n",
       "      <td>3</td>\n",
       "      <td>98001</td>\n",
       "    </tr>\n",
       "    <tr>\n",
       "      <th>18933</th>\n",
       "      <td>254999.0</td>\n",
       "      <td>1580</td>\n",
       "      <td>4</td>\n",
       "      <td>98001</td>\n",
       "    </tr>\n",
       "    <tr>\n",
       "      <th>292</th>\n",
       "      <td>360000.0</td>\n",
       "      <td>2160</td>\n",
       "      <td>3</td>\n",
       "      <td>98001</td>\n",
       "    </tr>\n",
       "    <tr>\n",
       "      <th>16342</th>\n",
       "      <td>280000.0</td>\n",
       "      <td>1600</td>\n",
       "      <td>3</td>\n",
       "      <td>98001</td>\n",
       "    </tr>\n",
       "    <tr>\n",
       "      <th>2165</th>\n",
       "      <td>238000.0</td>\n",
       "      <td>1088</td>\n",
       "      <td>3</td>\n",
       "      <td>98001</td>\n",
       "    </tr>\n",
       "    <tr>\n",
       "      <th>2161</th>\n",
       "      <td>332000.0</td>\n",
       "      <td>2120</td>\n",
       "      <td>3</td>\n",
       "      <td>98001</td>\n",
       "    </tr>\n",
       "    <tr>\n",
       "      <th>16318</th>\n",
       "      <td>274950.0</td>\n",
       "      <td>1840</td>\n",
       "      <td>3</td>\n",
       "      <td>98001</td>\n",
       "    </tr>\n",
       "    <tr>\n",
       "      <th>16306</th>\n",
       "      <td>280000.0</td>\n",
       "      <td>1550</td>\n",
       "      <td>3</td>\n",
       "      <td>98001</td>\n",
       "    </tr>\n",
       "    <tr>\n",
       "      <th>6748</th>\n",
       "      <td>175000.0</td>\n",
       "      <td>1230</td>\n",
       "      <td>4</td>\n",
       "      <td>98001</td>\n",
       "    </tr>\n",
       "    <tr>\n",
       "      <th>10964</th>\n",
       "      <td>280000.0</td>\n",
       "      <td>2400</td>\n",
       "      <td>3</td>\n",
       "      <td>98001</td>\n",
       "    </tr>\n",
       "    <tr>\n",
       "      <th>6726</th>\n",
       "      <td>265000.0</td>\n",
       "      <td>1580</td>\n",
       "      <td>4</td>\n",
       "      <td>98001</td>\n",
       "    </tr>\n",
       "    <tr>\n",
       "      <th>2135</th>\n",
       "      <td>185000.0</td>\n",
       "      <td>980</td>\n",
       "      <td>3</td>\n",
       "      <td>98001</td>\n",
       "    </tr>\n",
       "    <tr>\n",
       "      <th>17799</th>\n",
       "      <td>287500.0</td>\n",
       "      <td>2240</td>\n",
       "      <td>3</td>\n",
       "      <td>98001</td>\n",
       "    </tr>\n",
       "    <tr>\n",
       "      <th>20646</th>\n",
       "      <td>552900.0</td>\n",
       "      <td>3828</td>\n",
       "      <td>3</td>\n",
       "      <td>98001</td>\n",
       "    </tr>\n",
       "    <tr>\n",
       "      <th>11149</th>\n",
       "      <td>420000.0</td>\n",
       "      <td>3070</td>\n",
       "      <td>3</td>\n",
       "      <td>98001</td>\n",
       "    </tr>\n",
       "    <tr>\n",
       "      <th>11155</th>\n",
       "      <td>256000.0</td>\n",
       "      <td>1570</td>\n",
       "      <td>3</td>\n",
       "      <td>98001</td>\n",
       "    </tr>\n",
       "    <tr>\n",
       "      <th>20648</th>\n",
       "      <td>524225.0</td>\n",
       "      <td>3056</td>\n",
       "      <td>3</td>\n",
       "      <td>98001</td>\n",
       "    </tr>\n",
       "    <tr>\n",
       "      <th>19167</th>\n",
       "      <td>230000.0</td>\n",
       "      <td>1390</td>\n",
       "      <td>4</td>\n",
       "      <td>98001</td>\n",
       "    </tr>\n",
       "    <tr>\n",
       "      <th>3286</th>\n",
       "      <td>180000.0</td>\n",
       "      <td>1330</td>\n",
       "      <td>3</td>\n",
       "      <td>98001</td>\n",
       "    </tr>\n",
       "    <tr>\n",
       "      <th>10883</th>\n",
       "      <td>255000.0</td>\n",
       "      <td>1710</td>\n",
       "      <td>4</td>\n",
       "      <td>98001</td>\n",
       "    </tr>\n",
       "    <tr>\n",
       "      <th>11249</th>\n",
       "      <td>246900.0</td>\n",
       "      <td>1370</td>\n",
       "      <td>5</td>\n",
       "      <td>98001</td>\n",
       "    </tr>\n",
       "    <tr>\n",
       "      <th>17710</th>\n",
       "      <td>425000.0</td>\n",
       "      <td>2650</td>\n",
       "      <td>3</td>\n",
       "      <td>98001</td>\n",
       "    </tr>\n",
       "    <tr>\n",
       "      <th>20045</th>\n",
       "      <td>275000.0</td>\n",
       "      <td>2217</td>\n",
       "      <td>3</td>\n",
       "      <td>98001</td>\n",
       "    </tr>\n",
       "    <tr>\n",
       "      <th>16526</th>\n",
       "      <td>250000.0</td>\n",
       "      <td>1780</td>\n",
       "      <td>4</td>\n",
       "      <td>98001</td>\n",
       "    </tr>\n",
       "    <tr>\n",
       "      <th>21565</th>\n",
       "      <td>341780.0</td>\n",
       "      <td>2260</td>\n",
       "      <td>3</td>\n",
       "      <td>98001</td>\n",
       "    </tr>\n",
       "    <tr>\n",
       "      <th>10569</th>\n",
       "      <td>248000.0</td>\n",
       "      <td>2163</td>\n",
       "      <td>3</td>\n",
       "      <td>98001</td>\n",
       "    </tr>\n",
       "    <tr>\n",
       "      <th>17571</th>\n",
       "      <td>270000.0</td>\n",
       "      <td>1780</td>\n",
       "      <td>4</td>\n",
       "      <td>98001</td>\n",
       "    </tr>\n",
       "    <tr>\n",
       "      <th>...</th>\n",
       "      <td>...</td>\n",
       "      <td>...</td>\n",
       "      <td>...</td>\n",
       "      <td>...</td>\n",
       "    </tr>\n",
       "    <tr>\n",
       "      <th>14962</th>\n",
       "      <td>367300.0</td>\n",
       "      <td>2190</td>\n",
       "      <td>3</td>\n",
       "      <td>98001</td>\n",
       "    </tr>\n",
       "    <tr>\n",
       "      <th>21479</th>\n",
       "      <td>312891.0</td>\n",
       "      <td>2300</td>\n",
       "      <td>3</td>\n",
       "      <td>98001</td>\n",
       "    </tr>\n",
       "    <tr>\n",
       "      <th>15006</th>\n",
       "      <td>535000.0</td>\n",
       "      <td>2740</td>\n",
       "      <td>3</td>\n",
       "      <td>98001</td>\n",
       "    </tr>\n",
       "    <tr>\n",
       "      <th>14679</th>\n",
       "      <td>220000.0</td>\n",
       "      <td>1290</td>\n",
       "      <td>3</td>\n",
       "      <td>98001</td>\n",
       "    </tr>\n",
       "    <tr>\n",
       "      <th>999</th>\n",
       "      <td>289000.0</td>\n",
       "      <td>1850</td>\n",
       "      <td>3</td>\n",
       "      <td>98001</td>\n",
       "    </tr>\n",
       "    <tr>\n",
       "      <th>14600</th>\n",
       "      <td>246000.0</td>\n",
       "      <td>1440</td>\n",
       "      <td>4</td>\n",
       "      <td>98001</td>\n",
       "    </tr>\n",
       "    <tr>\n",
       "      <th>20999</th>\n",
       "      <td>353500.0</td>\n",
       "      <td>2050</td>\n",
       "      <td>3</td>\n",
       "      <td>98001</td>\n",
       "    </tr>\n",
       "    <tr>\n",
       "      <th>18807</th>\n",
       "      <td>625000.0</td>\n",
       "      <td>3160</td>\n",
       "      <td>4</td>\n",
       "      <td>98001</td>\n",
       "    </tr>\n",
       "    <tr>\n",
       "      <th>20946</th>\n",
       "      <td>280000.0</td>\n",
       "      <td>1934</td>\n",
       "      <td>3</td>\n",
       "      <td>98001</td>\n",
       "    </tr>\n",
       "    <tr>\n",
       "      <th>14436</th>\n",
       "      <td>234000.0</td>\n",
       "      <td>1820</td>\n",
       "      <td>3</td>\n",
       "      <td>98001</td>\n",
       "    </tr>\n",
       "    <tr>\n",
       "      <th>18579</th>\n",
       "      <td>160000.0</td>\n",
       "      <td>1370</td>\n",
       "      <td>3</td>\n",
       "      <td>98001</td>\n",
       "    </tr>\n",
       "    <tr>\n",
       "      <th>14437</th>\n",
       "      <td>234950.0</td>\n",
       "      <td>1510</td>\n",
       "      <td>4</td>\n",
       "      <td>98001</td>\n",
       "    </tr>\n",
       "    <tr>\n",
       "      <th>3868</th>\n",
       "      <td>250000.0</td>\n",
       "      <td>2320</td>\n",
       "      <td>5</td>\n",
       "      <td>98001</td>\n",
       "    </tr>\n",
       "    <tr>\n",
       "      <th>4530</th>\n",
       "      <td>263400.0</td>\n",
       "      <td>1360</td>\n",
       "      <td>3</td>\n",
       "      <td>98001</td>\n",
       "    </tr>\n",
       "    <tr>\n",
       "      <th>18590</th>\n",
       "      <td>194250.0</td>\n",
       "      <td>2190</td>\n",
       "      <td>3</td>\n",
       "      <td>98001</td>\n",
       "    </tr>\n",
       "    <tr>\n",
       "      <th>20962</th>\n",
       "      <td>110000.0</td>\n",
       "      <td>828</td>\n",
       "      <td>3</td>\n",
       "      <td>98001</td>\n",
       "    </tr>\n",
       "    <tr>\n",
       "      <th>21054</th>\n",
       "      <td>510000.0</td>\n",
       "      <td>4073</td>\n",
       "      <td>3</td>\n",
       "      <td>98001</td>\n",
       "    </tr>\n",
       "    <tr>\n",
       "      <th>19370</th>\n",
       "      <td>199900.0</td>\n",
       "      <td>1790</td>\n",
       "      <td>5</td>\n",
       "      <td>98001</td>\n",
       "    </tr>\n",
       "    <tr>\n",
       "      <th>4374</th>\n",
       "      <td>221000.0</td>\n",
       "      <td>1250</td>\n",
       "      <td>3</td>\n",
       "      <td>98001</td>\n",
       "    </tr>\n",
       "    <tr>\n",
       "      <th>14501</th>\n",
       "      <td>171500.0</td>\n",
       "      <td>1150</td>\n",
       "      <td>4</td>\n",
       "      <td>98001</td>\n",
       "    </tr>\n",
       "    <tr>\n",
       "      <th>15214</th>\n",
       "      <td>175000.0</td>\n",
       "      <td>1070</td>\n",
       "      <td>3</td>\n",
       "      <td>98001</td>\n",
       "    </tr>\n",
       "    <tr>\n",
       "      <th>21049</th>\n",
       "      <td>549950.0</td>\n",
       "      <td>3906</td>\n",
       "      <td>3</td>\n",
       "      <td>98001</td>\n",
       "    </tr>\n",
       "    <tr>\n",
       "      <th>1223</th>\n",
       "      <td>320000.0</td>\n",
       "      <td>2280</td>\n",
       "      <td>3</td>\n",
       "      <td>98001</td>\n",
       "    </tr>\n",
       "    <tr>\n",
       "      <th>38</th>\n",
       "      <td>240000.0</td>\n",
       "      <td>1220</td>\n",
       "      <td>2</td>\n",
       "      <td>98001</td>\n",
       "    </tr>\n",
       "    <tr>\n",
       "      <th>15207</th>\n",
       "      <td>250000.0</td>\n",
       "      <td>1830</td>\n",
       "      <td>3</td>\n",
       "      <td>98001</td>\n",
       "    </tr>\n",
       "    <tr>\n",
       "      <th>18637</th>\n",
       "      <td>222400.0</td>\n",
       "      <td>1200</td>\n",
       "      <td>3</td>\n",
       "      <td>98001</td>\n",
       "    </tr>\n",
       "    <tr>\n",
       "      <th>1218</th>\n",
       "      <td>100000.0</td>\n",
       "      <td>770</td>\n",
       "      <td>3</td>\n",
       "      <td>98001</td>\n",
       "    </tr>\n",
       "    <tr>\n",
       "      <th>15203</th>\n",
       "      <td>289950.0</td>\n",
       "      <td>1770</td>\n",
       "      <td>3</td>\n",
       "      <td>98001</td>\n",
       "    </tr>\n",
       "    <tr>\n",
       "      <th>14514</th>\n",
       "      <td>234500.0</td>\n",
       "      <td>1960</td>\n",
       "      <td>3</td>\n",
       "      <td>98001</td>\n",
       "    </tr>\n",
       "    <tr>\n",
       "      <th>1507</th>\n",
       "      <td>355000.0</td>\n",
       "      <td>2770</td>\n",
       "      <td>4</td>\n",
       "      <td>98001</td>\n",
       "    </tr>\n",
       "  </tbody>\n",
       "</table>\n",
       "<p>300 rows × 4 columns</p>\n",
       "</div>"
      ],
      "text/plain": [
       "          price  sqft_living  condition  zipcode\n",
       "11553  299999.0         2380          3    98001\n",
       "18935  460000.0         2720          3    98001\n",
       "16355  295000.0         1940          3    98001\n",
       "6819   269500.0         1700          3    98001\n",
       "18933  254999.0         1580          4    98001\n",
       "292    360000.0         2160          3    98001\n",
       "16342  280000.0         1600          3    98001\n",
       "2165   238000.0         1088          3    98001\n",
       "2161   332000.0         2120          3    98001\n",
       "16318  274950.0         1840          3    98001\n",
       "16306  280000.0         1550          3    98001\n",
       "6748   175000.0         1230          4    98001\n",
       "10964  280000.0         2400          3    98001\n",
       "6726   265000.0         1580          4    98001\n",
       "2135   185000.0          980          3    98001\n",
       "17799  287500.0         2240          3    98001\n",
       "20646  552900.0         3828          3    98001\n",
       "11149  420000.0         3070          3    98001\n",
       "11155  256000.0         1570          3    98001\n",
       "20648  524225.0         3056          3    98001\n",
       "19167  230000.0         1390          4    98001\n",
       "3286   180000.0         1330          3    98001\n",
       "10883  255000.0         1710          4    98001\n",
       "11249  246900.0         1370          5    98001\n",
       "17710  425000.0         2650          3    98001\n",
       "20045  275000.0         2217          3    98001\n",
       "16526  250000.0         1780          4    98001\n",
       "21565  341780.0         2260          3    98001\n",
       "10569  248000.0         2163          3    98001\n",
       "17571  270000.0         1780          4    98001\n",
       "...         ...          ...        ...      ...\n",
       "14962  367300.0         2190          3    98001\n",
       "21479  312891.0         2300          3    98001\n",
       "15006  535000.0         2740          3    98001\n",
       "14679  220000.0         1290          3    98001\n",
       "999    289000.0         1850          3    98001\n",
       "14600  246000.0         1440          4    98001\n",
       "20999  353500.0         2050          3    98001\n",
       "18807  625000.0         3160          4    98001\n",
       "20946  280000.0         1934          3    98001\n",
       "14436  234000.0         1820          3    98001\n",
       "18579  160000.0         1370          3    98001\n",
       "14437  234950.0         1510          4    98001\n",
       "3868   250000.0         2320          5    98001\n",
       "4530   263400.0         1360          3    98001\n",
       "18590  194250.0         2190          3    98001\n",
       "20962  110000.0          828          3    98001\n",
       "21054  510000.0         4073          3    98001\n",
       "19370  199900.0         1790          5    98001\n",
       "4374   221000.0         1250          3    98001\n",
       "14501  171500.0         1150          4    98001\n",
       "15214  175000.0         1070          3    98001\n",
       "21049  549950.0         3906          3    98001\n",
       "1223   320000.0         2280          3    98001\n",
       "38     240000.0         1220          2    98001\n",
       "15207  250000.0         1830          3    98001\n",
       "18637  222400.0         1200          3    98001\n",
       "1218   100000.0          770          3    98001\n",
       "15203  289950.0         1770          3    98001\n",
       "14514  234500.0         1960          3    98001\n",
       "1507   355000.0         2770          4    98001\n",
       "\n",
       "[300 rows x 4 columns]"
      ]
     },
     "execution_count": 54,
     "metadata": {},
     "output_type": "execute_result"
    }
   ],
   "source": [
    "from scipy import stats\n",
    "import pandas as pd\n",
    "import matplotlib.pyplot as plt\n",
    "import numpy as np\n",
    "from scipy.stats import norm\n",
    "\n",
    "\n",
    "atributi = ['zipcode','price','condition','sqft_living'] #odabiramo kolone koje cemo koristiti iz fajla koji ucitavamo komandom ispod\n",
    "data_por = pd.read_csv(\"house_data.csv\",usecols=atributi)#pravimo promenljivu sa imenom=data_por sa podacima iz .csv\n",
    "podaci_sortirati=data_por.sort_values(by=['zipcode'])#Sortiram podatke jer zelim samo iz jedne opstine da izvucem podatke\n",
    "t=(podaci_sortirati.iloc[0:300])#nakon sortiranja uzimam 350 podataka koje imaju vrednost zipcode='98001'\n",
    "t #prikazujemo i pocetak i kraj dataFrame-a da vidimo da li su sortirani podaci iz jedne opstine\n"
   ]
  },
  {
   "cell_type": "code",
   "execution_count": 55,
   "metadata": {},
   "outputs": [],
   "source": [
    "podaci=t.sort_values(by=['price'])# sortirao sam po ceni zbog fitovanja na kvadrat da bi linija isla kako treba\n",
    "podaci=podaci.dropna()"
   ]
  },
  {
   "cell_type": "code",
   "execution_count": 56,
   "metadata": {},
   "outputs": [],
   "source": [
    "#------------------------------------------------------------------\n",
    "#uslovna i neuslovna verovatnoca\n",
    "#------------------------------------------------------------------"
   ]
  },
  {
   "cell_type": "code",
   "execution_count": 57,
   "metadata": {},
   "outputs": [
    {
     "data": {
      "text/plain": [
       "3    200\n",
       "4     80\n",
       "5     15\n",
       "2      5\n",
       "Name: condition, dtype: int64"
      ]
     },
     "execution_count": 57,
     "metadata": {},
     "output_type": "execute_result"
    }
   ],
   "source": [
    "#Neuslovna verovatnoca\n",
    "#Izracunavamo koja je verovatnoca da cemo kupiti kvalitetnu nekretnine u datoj opstini na osnovu podataka\n",
    "data_temp = podaci[\"condition\"].value_counts()#izracunavamo koliko ima kojih nekretnina\n",
    "data_temp"
   ]
  },
  {
   "cell_type": "code",
   "execution_count": 58,
   "metadata": {},
   "outputs": [
    {
     "data": {
      "image/png": "[encoded data removed]",
      "text/plain": [
       "<Figure size 864x648 with 1 Axes>"
      ]
     },
     "metadata": {
      "needs_background": "light"
     },
     "output_type": "display_data"
    },
    {
     "data": {
      "text/html": [
       "<div>\n",
       "<style scoped>\n",
       "    .dataframe tbody tr th:only-of-type {\n",
       "        vertical-align: middle;\n",
       "    }\n",
       "\n",
       "    .dataframe tbody tr th {\n",
       "        vertical-align: top;\n",
       "    }\n",
       "\n",
       "    .dataframe thead th {\n",
       "        text-align: right;\n",
       "    }\n",
       "</style>\n",
       "<table border=\"1\" class=\"dataframe\">\n",
       "  <thead>\n",
       "    <tr style=\"text-align: right;\">\n",
       "      <th></th>\n",
       "      <th>Verovatnoca</th>\n",
       "    </tr>\n",
       "  </thead>\n",
       "  <tbody>\n",
       "    <tr>\n",
       "      <th>Los</th>\n",
       "      <td>0.016667</td>\n",
       "    </tr>\n",
       "    <tr>\n",
       "      <th>Ispod proseka</th>\n",
       "      <td>0.666667</td>\n",
       "    </tr>\n",
       "    <tr>\n",
       "      <th>Iznad proseka</th>\n",
       "      <td>0.266667</td>\n",
       "    </tr>\n",
       "    <tr>\n",
       "      <th>Odlican</th>\n",
       "      <td>0.050000</td>\n",
       "    </tr>\n",
       "  </tbody>\n",
       "</table>\n",
       "</div>"
      ],
      "text/plain": [
       "               Verovatnoca\n",
       "Los               0.016667\n",
       "Ispod proseka     0.666667\n",
       "Iznad proseka     0.266667\n",
       "Odlican           0.050000"
      ]
     },
     "execution_count": 58,
     "metadata": {},
     "output_type": "execute_result"
    }
   ],
   "source": [
    "P_kvalitet = pd.DataFrame((data_temp/data_temp.sum()).sort_index())  # sort_index - sortira prema nazivu vrste  - indeksu\n",
    "#pojedinacni delimo sa ukupnim i dobijamo verovatnocu, zbir svih pojedinacnih je 1\n",
    "P_kvalitet.index = [\"Los\",\"Ispod proseka\",\"Iznad proseka\",\"Odlican\"]#indeksiramo stranice\n",
    "P_kvalitet.columns = [\"Verovatnoca\"]# indeksiranje bar-a\n",
    "P_kvalitet.plot.bar(figsize=(12,9),fontsize=18)\n",
    "plt.ylabel(\"Verovatnoca\",fontsize=16)\n",
    "plt.xlabel(\"Kvalitet\",fontsize=18)\n",
    "plt.show()\n",
    "P_kvalitet"
   ]
  },
  {
   "cell_type": "code",
   "execution_count": 59,
   "metadata": {},
   "outputs": [],
   "source": [
    "#Verovatnoca da ce naci objekat sa odredjenim kvalitetom najveca verovatnoca je da cemo\n",
    "#naci objekat ISPOD PROSEKA je 0.66"
   ]
  },
  {
   "cell_type": "code",
   "execution_count": 60,
   "metadata": {},
   "outputs": [
    {
     "data": {
      "text/plain": [
       "3    128\n",
       "4     69\n",
       "5     13\n",
       "2      4\n",
       "Name: condition, dtype: int64"
      ]
     },
     "execution_count": 60,
     "metadata": {},
     "output_type": "execute_result"
    }
   ],
   "source": [
    "#Uslovna verovatnoca// Cena da je ispod 300,000 pod uslovom da je stanje iznad proseka i obrnuto\n",
    "data_temp = podaci.loc[podaci[\"price\"]<300000,\"condition\"]\n",
    "data_temp=(data_temp.value_counts())  \n",
    "data_temp"
   ]
  },
  {
   "cell_type": "code",
   "execution_count": 61,
   "metadata": {},
   "outputs": [
    {
     "data": {
      "text/plain": [
       "0.38317757009345793"
      ]
     },
     "execution_count": 61,
     "metadata": {},
     "output_type": "execute_result"
    }
   ],
   "source": [
    "data_temp1=(data_temp[5]+data_temp[4])/data_temp.sum()\n",
    "data_temp1"
   ]
  },
  {
   "cell_type": "code",
   "execution_count": 62,
   "metadata": {},
   "outputs": [
    {
     "data": {
      "text/plain": [
       "0.616822429906542"
      ]
     },
     "execution_count": 62,
     "metadata": {},
     "output_type": "execute_result"
    }
   ],
   "source": [
    "data_temp2=(data_temp[2] + data_temp[3])/data_temp.sum()\n",
    "data_temp2"
   ]
  },
  {
   "cell_type": "code",
   "execution_count": 63,
   "metadata": {},
   "outputs": [
    {
     "data": {
      "image/png": "[encoded data removed]",
      "text/plain": [
       "<Figure size 720x432 with 1 Axes>"
      ]
     },
     "metadata": {
      "needs_background": "light"
     },
     "output_type": "display_data"
    },
    {
     "data": {
      "text/html": [
       "<div>\n",
       "<style scoped>\n",
       "    .dataframe tbody tr th:only-of-type {\n",
       "        vertical-align: middle;\n",
       "    }\n",
       "\n",
       "    .dataframe tbody tr th {\n",
       "        vertical-align: top;\n",
       "    }\n",
       "\n",
       "    .dataframe thead th {\n",
       "        text-align: right;\n",
       "    }\n",
       "</style>\n",
       "<table border=\"1\" class=\"dataframe\">\n",
       "  <thead>\n",
       "    <tr style=\"text-align: right;\">\n",
       "      <th></th>\n",
       "      <th>Verovatnoca</th>\n",
       "    </tr>\n",
       "  </thead>\n",
       "  <tbody>\n",
       "    <tr>\n",
       "      <th>cena&gt;300,000|con&gt;3</th>\n",
       "      <td>0.383178</td>\n",
       "    </tr>\n",
       "    <tr>\n",
       "      <th>cena&gt;300,000|con=&lt;3</th>\n",
       "      <td>0.616822</td>\n",
       "    </tr>\n",
       "  </tbody>\n",
       "</table>\n",
       "</div>"
      ],
      "text/plain": [
       "                     Verovatnoca\n",
       "cena>300,000|con>3      0.383178\n",
       "cena>300,000|con=<3     0.616822"
      ]
     },
     "execution_count": 63,
     "metadata": {},
     "output_type": "execute_result"
    }
   ],
   "source": [
    "P_cene = pd.DataFrame([data_temp1, data_temp2])\n",
    "P_cene.index = [\"cena>300,000|con>3\",\"cena>300,000|con=<3\"]\n",
    "P_cene.columns = [\"Verovatnoca\"]\n",
    "\n",
    "# Crtanje bar grafika:\n",
    "P_cene.plot.bar(figsize=(10,6),fontsize=16)\n",
    "plt.xlabel(\"Cena\",fontsize=18)\n",
    "plt.ylabel(\"Verovatnoca\",fontsize=18)\n",
    "plt.show()\n",
    "P_cene"
   ]
  },
  {
   "cell_type": "code",
   "execution_count": 64,
   "metadata": {},
   "outputs": [],
   "source": [
    "#Uslovna verovatnoca da je ispod 300,000 cene mozemo da nadjemo objekat koji je\n",
    "#u gornjoj granici(4 i 5) stanja je ~ 0.4 a donjoj granici(2 i 3) je ~ 0.6"
   ]
  },
  {
   "cell_type": "code",
   "execution_count": 65,
   "metadata": {},
   "outputs": [],
   "source": [
    "#------------------------------------------------------------------\n",
    "#Estimacija parametara raspodela pojedinačnih promenljivih\n",
    "#------------------------------------------------------------------"
   ]
  },
  {
   "cell_type": "code",
   "execution_count": 66,
   "metadata": {},
   "outputs": [
    {
     "data": {
      "text/html": [
       "<div>\n",
       "<style scoped>\n",
       "    .dataframe tbody tr th:only-of-type {\n",
       "        vertical-align: middle;\n",
       "    }\n",
       "\n",
       "    .dataframe tbody tr th {\n",
       "        vertical-align: top;\n",
       "    }\n",
       "\n",
       "    .dataframe thead th {\n",
       "        text-align: right;\n",
       "    }\n",
       "</style>\n",
       "<table border=\"1\" class=\"dataframe\">\n",
       "  <thead>\n",
       "    <tr style=\"text-align: right;\">\n",
       "      <th></th>\n",
       "      <th>price</th>\n",
       "      <th>sqft_living</th>\n",
       "      <th>condition</th>\n",
       "      <th>zipcode</th>\n",
       "    </tr>\n",
       "  </thead>\n",
       "  <tbody>\n",
       "    <tr>\n",
       "      <th>count</th>\n",
       "      <td>300.000000</td>\n",
       "      <td>300.000000</td>\n",
       "      <td>300.000000</td>\n",
       "      <td>300.0</td>\n",
       "    </tr>\n",
       "    <tr>\n",
       "      <th>mean</th>\n",
       "      <td>279652.983333</td>\n",
       "      <td>1883.556667</td>\n",
       "      <td>3.350000</td>\n",
       "      <td>98001.0</td>\n",
       "    </tr>\n",
       "    <tr>\n",
       "      <th>std</th>\n",
       "      <td>98285.343034</td>\n",
       "      <td>635.281740</td>\n",
       "      <td>0.601698</td>\n",
       "      <td>0.0</td>\n",
       "    </tr>\n",
       "    <tr>\n",
       "      <th>min</th>\n",
       "      <td>100000.000000</td>\n",
       "      <td>770.000000</td>\n",
       "      <td>2.000000</td>\n",
       "      <td>98001.0</td>\n",
       "    </tr>\n",
       "    <tr>\n",
       "      <th>25%</th>\n",
       "      <td>215875.000000</td>\n",
       "      <td>1440.000000</td>\n",
       "      <td>3.000000</td>\n",
       "      <td>98001.0</td>\n",
       "    </tr>\n",
       "    <tr>\n",
       "      <th>50%</th>\n",
       "      <td>259450.000000</td>\n",
       "      <td>1810.000000</td>\n",
       "      <td>3.000000</td>\n",
       "      <td>98001.0</td>\n",
       "    </tr>\n",
       "    <tr>\n",
       "      <th>75%</th>\n",
       "      <td>313418.250000</td>\n",
       "      <td>2234.750000</td>\n",
       "      <td>4.000000</td>\n",
       "      <td>98001.0</td>\n",
       "    </tr>\n",
       "    <tr>\n",
       "      <th>max</th>\n",
       "      <td>850000.000000</td>\n",
       "      <td>5440.000000</td>\n",
       "      <td>5.000000</td>\n",
       "      <td>98001.0</td>\n",
       "    </tr>\n",
       "  </tbody>\n",
       "</table>\n",
       "</div>"
      ],
      "text/plain": [
       "               price  sqft_living   condition  zipcode\n",
       "count     300.000000   300.000000  300.000000    300.0\n",
       "mean   279652.983333  1883.556667    3.350000  98001.0\n",
       "std     98285.343034   635.281740    0.601698      0.0\n",
       "min    100000.000000   770.000000    2.000000  98001.0\n",
       "25%    215875.000000  1440.000000    3.000000  98001.0\n",
       "50%    259450.000000  1810.000000    3.000000  98001.0\n",
       "75%    313418.250000  2234.750000    4.000000  98001.0\n",
       "max    850000.000000  5440.000000    5.000000  98001.0"
      ]
     },
     "execution_count": 66,
     "metadata": {},
     "output_type": "execute_result"
    }
   ],
   "source": [
    "podaci.describe()# estimirane vrednosti\n",
    "#count koliko ih ima\n",
    "#mean srednja vrednost svih\n",
    "#std standardne devijacija\n",
    "#min minimalna vrednost\n",
    "#25% kvantil 0.25\n",
    "#50% medijana-> vrednost sredine niza\n",
    "#75% kvantil 0.75\n",
    "#max najveca vrednost"
   ]
  },
  {
   "cell_type": "code",
   "execution_count": 67,
   "metadata": {},
   "outputs": [
    {
     "data": {
      "text/plain": [
       "price          9.660009e+09\n",
       "sqft_living    4.035829e+05\n",
       "condition      3.620401e-01\n",
       "zipcode        0.000000e+00\n",
       "dtype: float64"
      ]
     },
     "execution_count": 67,
     "metadata": {},
     "output_type": "execute_result"
    }
   ],
   "source": [
    "podaci.var() #estimirana vrednost varijanse\n",
    "#"
   ]
  },
  {
   "cell_type": "code",
   "execution_count": 68,
   "metadata": {},
   "outputs": [
    {
     "data": {
      "text/html": [
       "<div>\n",
       "<style scoped>\n",
       "    .dataframe tbody tr th:only-of-type {\n",
       "        vertical-align: middle;\n",
       "    }\n",
       "\n",
       "    .dataframe tbody tr th {\n",
       "        vertical-align: top;\n",
       "    }\n",
       "\n",
       "    .dataframe thead th {\n",
       "        text-align: right;\n",
       "    }\n",
       "</style>\n",
       "<table border=\"1\" class=\"dataframe\">\n",
       "  <thead>\n",
       "    <tr style=\"text-align: right;\">\n",
       "      <th></th>\n",
       "      <th>price</th>\n",
       "      <th>sqft_living</th>\n",
       "      <th>condition</th>\n",
       "      <th>zipcode</th>\n",
       "    </tr>\n",
       "  </thead>\n",
       "  <tbody>\n",
       "    <tr>\n",
       "      <th>price</th>\n",
       "      <td>1.347824e+11</td>\n",
       "      <td>2.367154e+08</td>\n",
       "      <td>8687.030331</td>\n",
       "      <td>-1.045072e+06</td>\n",
       "    </tr>\n",
       "    <tr>\n",
       "      <th>sqft_living</th>\n",
       "      <td>2.367154e+08</td>\n",
       "      <td>8.435337e+05</td>\n",
       "      <td>-35.114601</td>\n",
       "      <td>-9.800232e+03</td>\n",
       "    </tr>\n",
       "    <tr>\n",
       "      <th>condition</th>\n",
       "      <td>8.687030e+03</td>\n",
       "      <td>-3.511460e+01</td>\n",
       "      <td>0.423467</td>\n",
       "      <td>1.053428e-01</td>\n",
       "    </tr>\n",
       "    <tr>\n",
       "      <th>zipcode</th>\n",
       "      <td>-1.045072e+06</td>\n",
       "      <td>-9.800232e+03</td>\n",
       "      <td>0.105343</td>\n",
       "      <td>2.862788e+03</td>\n",
       "    </tr>\n",
       "  </tbody>\n",
       "</table>\n",
       "</div>"
      ],
      "text/plain": [
       "                    price   sqft_living    condition       zipcode\n",
       "price        1.347824e+11  2.367154e+08  8687.030331 -1.045072e+06\n",
       "sqft_living  2.367154e+08  8.435337e+05   -35.114601 -9.800232e+03\n",
       "condition    8.687030e+03 -3.511460e+01     0.423467  1.053428e-01\n",
       "zipcode     -1.045072e+06 -9.800232e+03     0.105343  2.862788e+03"
      ]
     },
     "execution_count": 68,
     "metadata": {},
     "output_type": "execute_result"
    }
   ],
   "source": [
    "data_por.cov() #izracunavanje kovarijanse: predstavlja meru jačine veze između promene dve promenljive"
   ]
  },
  {
   "cell_type": "code",
   "execution_count": 69,
   "metadata": {},
   "outputs": [
    {
     "data": {
      "text/html": [
       "<div>\n",
       "<style scoped>\n",
       "    .dataframe tbody tr th:only-of-type {\n",
       "        vertical-align: middle;\n",
       "    }\n",
       "\n",
       "    .dataframe tbody tr th {\n",
       "        vertical-align: top;\n",
       "    }\n",
       "\n",
       "    .dataframe thead th {\n",
       "        text-align: right;\n",
       "    }\n",
       "</style>\n",
       "<table border=\"1\" class=\"dataframe\">\n",
       "  <thead>\n",
       "    <tr style=\"text-align: right;\">\n",
       "      <th></th>\n",
       "      <th>price</th>\n",
       "      <th>sqft_living</th>\n",
       "      <th>condition</th>\n",
       "      <th>zipcode</th>\n",
       "    </tr>\n",
       "  </thead>\n",
       "  <tbody>\n",
       "    <tr>\n",
       "      <th>price</th>\n",
       "      <td>1.000000</td>\n",
       "      <td>0.702035</td>\n",
       "      <td>0.036362</td>\n",
       "      <td>-0.053203</td>\n",
       "    </tr>\n",
       "    <tr>\n",
       "      <th>sqft_living</th>\n",
       "      <td>0.702035</td>\n",
       "      <td>1.000000</td>\n",
       "      <td>-0.058753</td>\n",
       "      <td>-0.199430</td>\n",
       "    </tr>\n",
       "    <tr>\n",
       "      <th>condition</th>\n",
       "      <td>0.036362</td>\n",
       "      <td>-0.058753</td>\n",
       "      <td>1.000000</td>\n",
       "      <td>0.003026</td>\n",
       "    </tr>\n",
       "    <tr>\n",
       "      <th>zipcode</th>\n",
       "      <td>-0.053203</td>\n",
       "      <td>-0.199430</td>\n",
       "      <td>0.003026</td>\n",
       "      <td>1.000000</td>\n",
       "    </tr>\n",
       "  </tbody>\n",
       "</table>\n",
       "</div>"
      ],
      "text/plain": [
       "                price  sqft_living  condition   zipcode\n",
       "price        1.000000     0.702035   0.036362 -0.053203\n",
       "sqft_living  0.702035     1.000000  -0.058753 -0.199430\n",
       "condition    0.036362    -0.058753   1.000000  0.003026\n",
       "zipcode     -0.053203    -0.199430   0.003026  1.000000"
      ]
     },
     "execution_count": 69,
     "metadata": {},
     "output_type": "execute_result"
    }
   ],
   "source": [
    "data_por.corr() #koliko i kako utice jedna promenljiva na ostale, da li ide u u plus ili minus povecavanje\n",
    "#jedne promeljive."
   ]
  },
  {
   "cell_type": "code",
   "execution_count": 70,
   "metadata": {},
   "outputs": [],
   "source": [
    "#------------------------------------------------------------------\n",
    "#Estimacija funkcije gustine raspodele pomoću histograma i testiranje hipoteza o\n",
    "#raspodeli korišćenjem Kolmogorov-Smirnov i/ili hi-kvadrat testa\n",
    "#------------------------------------------------------------------"
   ]
  },
  {
   "cell_type": "code",
   "execution_count": 71,
   "metadata": {},
   "outputs": [
    {
     "name": "stderr",
     "output_type": "stream",
     "text": [
      "C:\\Users\\Zlatko-Laptop\\Anaconda3\\lib\\site-packages\\matplotlib\\axes\\_axes.py:6571: UserWarning: The 'normed' kwarg is deprecated, and has been replaced by the 'density' kwarg.\n",
      "  warnings.warn(\"The 'normed' kwarg is deprecated, and has been \"\n"
     ]
    },
    {
     "data": {
      "image/png": "[encoded data removed]",
      "text/plain": [
       "<Figure size 432x288 with 1 Axes>"
      ]
     },
     "metadata": {
      "needs_background": "light"
     },
     "output_type": "display_data"
    }
   ],
   "source": [
    "#histogram podataka cena\n",
    "histcena = podaci['price'].hist(normed=True,bins=30) \n",
    "plt.show()"
   ]
  },
  {
   "cell_type": "code",
   "execution_count": 72,
   "metadata": {},
   "outputs": [
    {
     "name": "stderr",
     "output_type": "stream",
     "text": [
      "C:\\Users\\Zlatko-Laptop\\Anaconda3\\lib\\site-packages\\matplotlib\\axes\\_axes.py:6571: UserWarning: The 'normed' kwarg is deprecated, and has been replaced by the 'density' kwarg.\n",
      "  warnings.warn(\"The 'normed' kwarg is deprecated, and has been \"\n"
     ]
    },
    {
     "data": {
      "image/png": "[encoded data removed]",
      "text/plain": [
       "<Figure size 432x288 with 1 Axes>"
      ]
     },
     "metadata": {
      "needs_background": "light"
     },
     "output_type": "display_data"
    }
   ],
   "source": [
    "#histogram podataka stanje nekretnine\n",
    "hist = podaci['condition'].hist(normed=True,bins=30) \n",
    "plt.show()"
   ]
  },
  {
   "cell_type": "code",
   "execution_count": 73,
   "metadata": {},
   "outputs": [
    {
     "name": "stderr",
     "output_type": "stream",
     "text": [
      "C:\\Users\\Zlatko-Laptop\\Anaconda3\\lib\\site-packages\\matplotlib\\axes\\_axes.py:6571: UserWarning: The 'normed' kwarg is deprecated, and has been replaced by the 'density' kwarg.\n",
      "  warnings.warn(\"The 'normed' kwarg is deprecated, and has been \"\n"
     ]
    },
    {
     "data": {
      "image/png": "[encoded data removed]",
      "text/plain": [
       "<Figure size 432x288 with 1 Axes>"
      ]
     },
     "metadata": {
      "needs_background": "light"
     },
     "output_type": "display_data"
    }
   ],
   "source": [
    "#histogram podataka kvadrata nekretnine\n",
    "hist = podaci['sqft_living'].hist(normed=True,bins=30) \n",
    "plt.show()"
   ]
  },
  {
   "cell_type": "code",
   "execution_count": 74,
   "metadata": {},
   "outputs": [
    {
     "name": "stderr",
     "output_type": "stream",
     "text": [
      "C:\\Users\\Zlatko-Laptop\\Anaconda3\\lib\\site-packages\\matplotlib\\axes\\_axes.py:6571: UserWarning: The 'normed' kwarg is deprecated, and has been replaced by the 'density' kwarg.\n",
      "  warnings.warn(\"The 'normed' kwarg is deprecated, and has been \"\n"
     ]
    },
    {
     "data": {
      "image/png": "[encoded data removed]",
      "text/plain": [
       "<Figure size 432x288 with 1 Axes>"
      ]
     },
     "metadata": {
      "needs_background": "light"
     },
     "output_type": "display_data"
    }
   ],
   "source": [
    "histcena = podaci['price'].hist(normed=True,bins=30)\n",
    "korak=1\n",
    "x = np.arange(0, 700000, korak)\n",
    "m1=podaci['price'].mean()-30000\n",
    "sig1=podaci['price'].std()-60000\n",
    "m2=podaci['price'].mean()+30000\n",
    "sig2=podaci['price'].std()+40000\n",
    "\n",
    "P_norm_mix2 = np.array(0.5*norm.pdf(x, m1, sig1)+0.5*norm.pdf(x, m2, sig2))\n",
    "plt.plot(x, P_norm_mix2, 'r', linewidth=3.0)\n",
    "plt.show()"
   ]
  },
  {
   "cell_type": "code",
   "execution_count": 75,
   "metadata": {},
   "outputs": [
    {
     "name": "stdout",
     "output_type": "stream",
     "text": [
      "0.8431911345697307\n"
     ]
    }
   ],
   "source": [
    "#Sada mozemo da izracunamo verovatnocu iz opsega\n",
    "#verovatnoca da ce cena na celom skupu objekata biti izmedju 200000 i 400000\n",
    "PP=np.array([korak*z for x,z in zip(x,P_norm_mix2) if (x>200000 and x<4000000)]) \n",
    "P_trazeno=PP.sum(axis=0) # sumiramo povrsine svih malih pravougaonika\n",
    "print(P_trazeno)"
   ]
  },
  {
   "cell_type": "code",
   "execution_count": 76,
   "metadata": {},
   "outputs": [],
   "source": [
    "#verovatnoca da je cena izmedju 200,000 i 400,000 je ~ 0.8"
   ]
  },
  {
   "cell_type": "code",
   "execution_count": 77,
   "metadata": {},
   "outputs": [
    {
     "data": {
      "text/plain": [
       "KstestResult(statistic=0.23205426865550338, pvalue=3.225383537031057e-05)"
      ]
     },
     "execution_count": 77,
     "metadata": {},
     "output_type": "execute_result"
    }
   ],
   "source": [
    "# testiracemo da li je ovo normalna raspodele:\n",
    "velicina_uzorka=100\n",
    "stats.kstest(podaci['price'].sample(velicina_uzorka).dropna().values.T, cdf='norm',args=(podaci['price'].dropna().values.mean(), podaci['price'].dropna().values.std()))  \n",
    "# u args stavljamo ocene matematickog ocekivanja i standardne devijacije\n",
    "#sa nivoom znacajnosti oko pvalue+ odbacujemo hipotezu o normalnoj raspodeli"
   ]
  },
  {
   "cell_type": "code",
   "execution_count": 78,
   "metadata": {},
   "outputs": [],
   "source": [
    "#---------------------------------------------------------\n",
    "#Estimacija intervala poverenja ocena određenih parametara\n",
    "#----------------------------------------------------------"
   ]
  },
  {
   "cell_type": "code",
   "execution_count": 79,
   "metadata": {},
   "outputs": [
    {
     "name": "stderr",
     "output_type": "stream",
     "text": [
      "C:\\Users\\Zlatko-Laptop\\Anaconda3\\lib\\site-packages\\matplotlib\\axes\\_axes.py:6571: UserWarning: The 'normed' kwarg is deprecated, and has been replaced by the 'density' kwarg.\n",
      "  warnings.warn(\"The 'normed' kwarg is deprecated, and has been \"\n"
     ]
    },
    {
     "data": {
      "image/png": "[encoded data removed]",
      "text/plain": [
       "<Figure size 432x288 with 1 Axes>"
      ]
     },
     "metadata": {
      "needs_background": "light"
     },
     "output_type": "display_data"
    },
    {
     "data": {
      "image/png": "[encoded data removed]",
      "text/plain": [
       "<Figure size 432x288 with 1 Axes>"
      ]
     },
     "metadata": {
      "needs_background": "light"
     },
     "output_type": "display_data"
    }
   ],
   "source": [
    "# hocemo da estimiramo srednju vrednost uzimajuci samo manji uzorak iz cene:\n",
    "estimatori_srednje_vrednosti = [] #Ovde cemo da skladistimo rezultate      \n",
    "\n",
    "velicina_uzorka=40 #Koliko uzimamo iz podataka\n",
    "broj_estimacija_srednjih_vrednosti=50  # Koliko eksperimenata izvrsavamo\n",
    "for x in range(broj_estimacija_srednjih_vrednosti):\n",
    "    \n",
    "    uzorak=podaci['price'].sample(velicina_uzorka)#Uzimamo uzorak\n",
    "    estimatori_srednje_vrednosti.append( uzorak.values.mean() )#Izracunavamo srednju vrednost\n",
    "    \n",
    "# plotujemo estimaciju gustine verovatnoce raspodele srednjih vrednosti (pomocu histograma) - vidimo da je priblizno normalna!  \n",
    "pd.DataFrame(estimatori_srednje_vrednosti).plot(kind=\"density\")   \n",
    "\n",
    "# histogram srednjih vrednosti:\n",
    "hist = pd.DataFrame(estimatori_srednje_vrednosti).hist(normed=True,bins=30) \n",
    "plt.show()"
   ]
  },
  {
   "cell_type": "code",
   "execution_count": 80,
   "metadata": {},
   "outputs": [
    {
     "name": "stdout",
     "output_type": "stream",
     "text": [
      "233250.5\n",
      "(213334.8333870162, 253166.1666129838)\n"
     ]
    }
   ],
   "source": [
    "std=podaci.std()['price']\n",
    "\n",
    "alpha=0.2   # nivo poverenja je 1-alpha=0.2\n",
    "\n",
    "print(estimatori_srednje_vrednosti[0])  # stampamo estimranu vrednost\n",
    "\n",
    "# PRVI NACIN - SVODJENJE NA Z-RASPODELU (N(0,1))\n",
    "red_kvantila=1-alpha/2\n",
    "Kvantil = stats.norm.ppf(red_kvantila)  # Kvantil odgovarajuceg reda Z raspodele (normalna (0,1) raspodela)\n",
    "                  \n",
    "margina = Kvantil * (std/velicina_uzorka**0.5)\n",
    "\n",
    "interval_poverenja = (estimatori_srednje_vrednosti[0] - margina, estimatori_srednje_vrednosti[0] + margina)  \n",
    "print(interval_poverenja)"
   ]
  },
  {
   "cell_type": "code",
   "execution_count": 81,
   "metadata": {},
   "outputs": [
    {
     "data": {
      "image/png": "[encoded data removed]",
      "text/plain": [
       "<Figure size 648x648 with 1 Axes>"
      ]
     },
     "metadata": {
      "needs_background": "light"
     },
     "output_type": "display_data"
    }
   ],
   "source": [
    "# crtanje svih intervala poverenja:\n",
    "\n",
    "intervali_poverenja=[]\n",
    "for i in range(0,50):\n",
    "    intervali_poverenja.append((estimatori_srednje_vrednosti[i] - margina, estimatori_srednje_vrednosti[i] + margina))\n",
    "    \n",
    "# crtanje intervala poverenja:\n",
    "\n",
    "plt.figure(figsize=(9,9))\n",
    "\n",
    "# crtamo intervale pomocu plt.errorbar:\n",
    "plt.errorbar(x=np.arange(0, 50), \n",
    "             y=estimatori_srednje_vrednosti[0:50], \n",
    "             yerr=[(gornja-donja)/2 for gornja,donja in intervali_poverenja],\n",
    "             fmt='o')\n",
    "\n",
    "plt.hlines(xmin=0, xmax=50,\n",
    "           y=podaci.mean()['price'], \n",
    "           linewidth=2.0,\n",
    "           color=\"red\")\n",
    "\n",
    "plt.show()"
   ]
  },
  {
   "cell_type": "code",
   "execution_count": 82,
   "metadata": {},
   "outputs": [
    {
     "name": "stdout",
     "output_type": "stream",
     "text": [
      "\n"
     ]
    },
    {
     "name": "stderr",
     "output_type": "stream",
     "text": [
      "C:\\Users\\Zlatko-Laptop\\Anaconda3\\lib\\site-packages\\matplotlib\\axes\\_axes.py:6571: UserWarning: The 'normed' kwarg is deprecated, and has been replaced by the 'density' kwarg.\n",
      "  warnings.warn(\"The 'normed' kwarg is deprecated, and has been \"\n"
     ]
    },
    {
     "data": {
      "image/png": "[encoded data removed]",
      "text/plain": [
       "<Figure size 432x288 with 1 Axes>"
      ]
     },
     "metadata": {
      "needs_background": "light"
     },
     "output_type": "display_data"
    },
    {
     "data": {
      "image/png": "[encoded data removed]",
      "text/plain": [
       "<Figure size 432x288 with 1 Axes>"
      ]
     },
     "metadata": {
      "needs_background": "light"
     },
     "output_type": "display_data"
    }
   ],
   "source": [
    "#ocena varijanse\n",
    "uzorak=podaci['price'].sample(30)\n",
    "# hocemo da estimiramo varijansu uzimajuci samo manji uzorak\n",
    "estimatori_varijanse = []       \n",
    "\n",
    "velicina_uzorka=30\n",
    "broj_estimacija_varijansi=20   # ovo je broj estimacija, svaki je baziran na uzorku velicine 'velicina_uzorka'\n",
    "for x in range(broj_estimacija_varijansi):         \n",
    "    \n",
    "    uzorak=podaci.sample(velicina_uzorka)\n",
    "    estimatori_varijanse.append( uzorak.var()['price'])\n",
    "    \n",
    "print()   \n",
    "    \n",
    "# plotujemo estimaciju gustine verovatnoce raspodele ocena varijansi (pomocu histograma)  \n",
    "pd.DataFrame(estimatori_varijanse).plot(kind=\"density\")   \n",
    "\n",
    "# histogram ocena varijansi:\n",
    "hist = pd.DataFrame(estimatori_varijanse).hist(normed=True,bins=20) \n",
    "plt.show()"
   ]
  },
  {
   "cell_type": "code",
   "execution_count": 83,
   "metadata": {},
   "outputs": [
    {
     "data": {
      "text/plain": [
       "KstestResult(statistic=0.18321107365250144, pvalue=0.11997974561079117)"
      ]
     },
     "execution_count": 83,
     "metadata": {},
     "output_type": "execute_result"
    }
   ],
   "source": [
    "# testiracemo da li je srednja vrednost cene normalna raspodele:\n",
    "velicina_uzorka=40\n",
    "stats.kstest(podaci['price'].sample(velicina_uzorka).dropna().values.T, cdf='norm',args=(podaci['price'].dropna().values.mean(), podaci['price'].dropna().values.std()))  \n",
    "# u args stavljamo ocene matematickog ocekivanja i standardne devijacije"
   ]
  },
  {
   "cell_type": "code",
   "execution_count": 84,
   "metadata": {},
   "outputs": [],
   "source": [
    "#Mozemo da velikom sigurnoscu da kazemo da jest sto smo i videli iz dijagrama srednje cene"
   ]
  },
  {
   "cell_type": "code",
   "execution_count": 85,
   "metadata": {},
   "outputs": [
    {
     "data": {
      "image/png": "[encoded data removed]",
      "text/plain": [
       "<Figure size 432x288 with 1 Axes>"
      ]
     },
     "metadata": {
      "needs_background": "light"
     },
     "output_type": "display_data"
    }
   ],
   "source": [
    "podaci.plot('price', 'sqft_living',style='b.')#naredba za plotovanje x osa je cena, y osa je iznos kvadratnih fita objekta\n",
    "plt.show()#komanda za crtanje"
   ]
  },
  {
   "cell_type": "code",
   "execution_count": 86,
   "metadata": {},
   "outputs": [],
   "source": [
    "#-----------------------------------------------------------------------------"
   ]
  },
  {
   "cell_type": "code",
   "execution_count": 87,
   "metadata": {},
   "outputs": [
    {
     "data": {
      "image/png": "[encoded data removed]",
      "text/plain": [
       "<Figure size 432x288 with 1 Axes>"
      ]
     },
     "metadata": {
      "needs_background": "light"
     },
     "output_type": "display_data"
    }
   ],
   "source": [
    "import statsmodels.formula.api as sm\n",
    "from statsmodels.formula.api import ols\n",
    "\n",
    "result= sm.ols('sqft_living ~ price', podaci).fit()#fitovanje podataka\n",
    "res1 = sm.ols('sqft_living ~ price+I(price**2)', podaci).fit()  # fitovanje sa 4 kvadratom\n",
    "res2 = sm.ols('sqft_living ~ price+I(price**2)+I(price**3)', podaci).fit()  # fitovanje sa 4 kvadratom\n",
    "\n",
    "\n",
    "podaci.plot('price','sqft_living', style='o')\n",
    "plt.plot(podaci.price, result.fittedvalues,'k')#normalno fitovanje\n",
    "plt.plot(podaci.price, res1.fittedvalues,'r')#na kvadrat (prefitovan)\n",
    "plt.plot(podaci.price, res2.fittedvalues,'b')#na 4 kvadrat (prefitovan)\n",
    "plt.show()"
   ]
  },
  {
   "cell_type": "code",
   "execution_count": 88,
   "metadata": {},
   "outputs": [
    {
     "data": {
      "text/html": [
       "<table class=\"simpletable\">\n",
       "<caption>OLS Regression Results</caption>\n",
       "<tr>\n",
       "  <th>Dep. Variable:</th>       <td>sqft_living</td>   <th>  R-squared:         </th> <td>   0.670</td>\n",
       "</tr>\n",
       "<tr>\n",
       "  <th>Model:</th>                   <td>OLS</td>       <th>  Adj. R-squared:    </th> <td>   0.669</td>\n",
       "</tr>\n",
       "<tr>\n",
       "  <th>Method:</th>             <td>Least Squares</td>  <th>  F-statistic:       </th> <td>   605.0</td>\n",
       "</tr>\n",
       "<tr>\n",
       "  <th>Date:</th>             <td>Mon, 14 Jan 2019</td> <th>  Prob (F-statistic):</th> <td>1.03e-73</td>\n",
       "</tr>\n",
       "<tr>\n",
       "  <th>Time:</th>                 <td>09:46:12</td>     <th>  Log-Likelihood:    </th> <td> -2195.1</td>\n",
       "</tr>\n",
       "<tr>\n",
       "  <th>No. Observations:</th>      <td>   300</td>      <th>  AIC:               </th> <td>   4394.</td>\n",
       "</tr>\n",
       "<tr>\n",
       "  <th>Df Residuals:</th>          <td>   298</td>      <th>  BIC:               </th> <td>   4402.</td>\n",
       "</tr>\n",
       "<tr>\n",
       "  <th>Df Model:</th>              <td>     1</td>      <th>                     </th>     <td> </td>   \n",
       "</tr>\n",
       "<tr>\n",
       "  <th>Covariance Type:</th>      <td>nonrobust</td>    <th>                     </th>     <td> </td>   \n",
       "</tr>\n",
       "</table>\n",
       "<table class=\"simpletable\">\n",
       "<tr>\n",
       "      <td></td>         <th>coef</th>     <th>std err</th>      <th>t</th>      <th>P>|t|</th>  <th>[0.025</th>    <th>0.975]</th>  \n",
       "</tr>\n",
       "<tr>\n",
       "  <th>Intercept</th> <td>  403.9991</td> <td>   63.747</td> <td>    6.338</td> <td> 0.000</td> <td>  278.547</td> <td>  529.451</td>\n",
       "</tr>\n",
       "<tr>\n",
       "  <th>price</th>     <td>    0.0053</td> <td>    0.000</td> <td>   24.597</td> <td> 0.000</td> <td>    0.005</td> <td>    0.006</td>\n",
       "</tr>\n",
       "</table>\n",
       "<table class=\"simpletable\">\n",
       "<tr>\n",
       "  <th>Omnibus:</th>       <td> 9.575</td> <th>  Durbin-Watson:     </th> <td>   2.215</td>\n",
       "</tr>\n",
       "<tr>\n",
       "  <th>Prob(Omnibus):</th> <td> 0.008</td> <th>  Jarque-Bera (JB):  </th> <td>  18.120</td>\n",
       "</tr>\n",
       "<tr>\n",
       "  <th>Skew:</th>          <td> 0.034</td> <th>  Prob(JB):          </th> <td>0.000116</td>\n",
       "</tr>\n",
       "<tr>\n",
       "  <th>Kurtosis:</th>      <td> 4.202</td> <th>  Cond. No.          </th> <td>8.95e+05</td>\n",
       "</tr>\n",
       "</table><br/><br/>Warnings:<br/>[1] Standard Errors assume that the covariance matrix of the errors is correctly specified.<br/>[2] The condition number is large, 8.95e+05. This might indicate that there are<br/>strong multicollinearity or other numerical problems."
      ],
      "text/plain": [
       "<class 'statsmodels.iolib.summary.Summary'>\n",
       "\"\"\"\n",
       "                            OLS Regression Results                            \n",
       "==============================================================================\n",
       "Dep. Variable:            sqft_living   R-squared:                       0.670\n",
       "Model:                            OLS   Adj. R-squared:                  0.669\n",
       "Method:                 Least Squares   F-statistic:                     605.0\n",
       "Date:                Mon, 14 Jan 2019   Prob (F-statistic):           1.03e-73\n",
       "Time:                        09:46:12   Log-Likelihood:                -2195.1\n",
       "No. Observations:                 300   AIC:                             4394.\n",
       "Df Residuals:                     298   BIC:                             4402.\n",
       "Df Model:                           1                                         \n",
       "Covariance Type:            nonrobust                                         \n",
       "==============================================================================\n",
       "                 coef    std err          t      P>|t|      [0.025      0.975]\n",
       "------------------------------------------------------------------------------\n",
       "Intercept    403.9991     63.747      6.338      0.000     278.547     529.451\n",
       "price          0.0053      0.000     24.597      0.000       0.005       0.006\n",
       "==============================================================================\n",
       "Omnibus:                        9.575   Durbin-Watson:                   2.215\n",
       "Prob(Omnibus):                  0.008   Jarque-Bera (JB):               18.120\n",
       "Skew:                           0.034   Prob(JB):                     0.000116\n",
       "Kurtosis:                       4.202   Cond. No.                     8.95e+05\n",
       "==============================================================================\n",
       "\n",
       "Warnings:\n",
       "[1] Standard Errors assume that the covariance matrix of the errors is correctly specified.\n",
       "[2] The condition number is large, 8.95e+05. This might indicate that there are\n",
       "strong multicollinearity or other numerical problems.\n",
       "\"\"\""
      ]
     },
     "execution_count": 88,
     "metadata": {},
     "output_type": "execute_result"
    }
   ],
   "source": [
    "result.summary()"
   ]
  },
  {
   "cell_type": "code",
   "execution_count": 89,
   "metadata": {},
   "outputs": [
    {
     "data": {
      "text/html": [
       "<table class=\"simpletable\">\n",
       "<caption>OLS Regression Results</caption>\n",
       "<tr>\n",
       "  <th>Dep. Variable:</th>       <td>sqft_living</td>   <th>  R-squared:         </th> <td>   0.671</td>\n",
       "</tr>\n",
       "<tr>\n",
       "  <th>Model:</th>                   <td>OLS</td>       <th>  Adj. R-squared:    </th> <td>   0.669</td>\n",
       "</tr>\n",
       "<tr>\n",
       "  <th>Method:</th>             <td>Least Squares</td>  <th>  F-statistic:       </th> <td>   302.6</td>\n",
       "</tr>\n",
       "<tr>\n",
       "  <th>Date:</th>             <td>Mon, 14 Jan 2019</td> <th>  Prob (F-statistic):</th> <td>2.18e-72</td>\n",
       "</tr>\n",
       "<tr>\n",
       "  <th>Time:</th>                 <td>09:46:12</td>     <th>  Log-Likelihood:    </th> <td> -2194.7</td>\n",
       "</tr>\n",
       "<tr>\n",
       "  <th>No. Observations:</th>      <td>   300</td>      <th>  AIC:               </th> <td>   4395.</td>\n",
       "</tr>\n",
       "<tr>\n",
       "  <th>Df Residuals:</th>          <td>   297</td>      <th>  BIC:               </th> <td>   4407.</td>\n",
       "</tr>\n",
       "<tr>\n",
       "  <th>Df Model:</th>              <td>     2</td>      <th>                     </th>     <td> </td>   \n",
       "</tr>\n",
       "<tr>\n",
       "  <th>Covariance Type:</th>      <td>nonrobust</td>    <th>                     </th>     <td> </td>   \n",
       "</tr>\n",
       "</table>\n",
       "<table class=\"simpletable\">\n",
       "<tr>\n",
       "        <td></td>           <th>coef</th>     <th>std err</th>      <th>t</th>      <th>P>|t|</th>  <th>[0.025</th>    <th>0.975]</th>  \n",
       "</tr>\n",
       "<tr>\n",
       "  <th>Intercept</th>     <td>  294.1005</td> <td>  142.199</td> <td>    2.068</td> <td> 0.039</td> <td>   14.256</td> <td>  573.945</td>\n",
       "</tr>\n",
       "<tr>\n",
       "  <th>price</th>         <td>    0.0060</td> <td>    0.001</td> <td>    7.190</td> <td> 0.000</td> <td>    0.004</td> <td>    0.008</td>\n",
       "</tr>\n",
       "<tr>\n",
       "  <th>I(price ** 2)</th> <td>-9.631e-10</td> <td> 1.11e-09</td> <td>   -0.865</td> <td> 0.388</td> <td>-3.15e-09</td> <td> 1.23e-09</td>\n",
       "</tr>\n",
       "</table>\n",
       "<table class=\"simpletable\">\n",
       "<tr>\n",
       "  <th>Omnibus:</th>       <td> 9.970</td> <th>  Durbin-Watson:     </th> <td>   2.228</td>\n",
       "</tr>\n",
       "<tr>\n",
       "  <th>Prob(Omnibus):</th> <td> 0.007</td> <th>  Jarque-Bera (JB):  </th> <td>  19.325</td>\n",
       "</tr>\n",
       "<tr>\n",
       "  <th>Skew:</th>          <td> 0.035</td> <th>  Prob(JB):          </th> <td>6.36e-05</td>\n",
       "</tr>\n",
       "<tr>\n",
       "  <th>Kurtosis:</th>      <td> 4.241</td> <th>  Cond. No.          </th> <td>7.71e+11</td>\n",
       "</tr>\n",
       "</table><br/><br/>Warnings:<br/>[1] Standard Errors assume that the covariance matrix of the errors is correctly specified.<br/>[2] The condition number is large, 7.71e+11. This might indicate that there are<br/>strong multicollinearity or other numerical problems."
      ],
      "text/plain": [
       "<class 'statsmodels.iolib.summary.Summary'>\n",
       "\"\"\"\n",
       "                            OLS Regression Results                            \n",
       "==============================================================================\n",
       "Dep. Variable:            sqft_living   R-squared:                       0.671\n",
       "Model:                            OLS   Adj. R-squared:                  0.669\n",
       "Method:                 Least Squares   F-statistic:                     302.6\n",
       "Date:                Mon, 14 Jan 2019   Prob (F-statistic):           2.18e-72\n",
       "Time:                        09:46:12   Log-Likelihood:                -2194.7\n",
       "No. Observations:                 300   AIC:                             4395.\n",
       "Df Residuals:                     297   BIC:                             4407.\n",
       "Df Model:                           2                                         \n",
       "Covariance Type:            nonrobust                                         \n",
       "=================================================================================\n",
       "                    coef    std err          t      P>|t|      [0.025      0.975]\n",
       "---------------------------------------------------------------------------------\n",
       "Intercept       294.1005    142.199      2.068      0.039      14.256     573.945\n",
       "price             0.0060      0.001      7.190      0.000       0.004       0.008\n",
       "I(price ** 2) -9.631e-10   1.11e-09     -0.865      0.388   -3.15e-09    1.23e-09\n",
       "==============================================================================\n",
       "Omnibus:                        9.970   Durbin-Watson:                   2.228\n",
       "Prob(Omnibus):                  0.007   Jarque-Bera (JB):               19.325\n",
       "Skew:                           0.035   Prob(JB):                     6.36e-05\n",
       "Kurtosis:                       4.241   Cond. No.                     7.71e+11\n",
       "==============================================================================\n",
       "\n",
       "Warnings:\n",
       "[1] Standard Errors assume that the covariance matrix of the errors is correctly specified.\n",
       "[2] The condition number is large, 7.71e+11. This might indicate that there are\n",
       "strong multicollinearity or other numerical problems.\n",
       "\"\"\""
      ]
     },
     "execution_count": 89,
     "metadata": {},
     "output_type": "execute_result"
    }
   ],
   "source": [
    "res1.summary()"
   ]
  },
  {
   "cell_type": "code",
   "execution_count": 242,
   "metadata": {},
   "outputs": [
    {
     "data": {
      "text/html": [
       "<table class=\"simpletable\">\n",
       "<caption>OLS Regression Results</caption>\n",
       "<tr>\n",
       "  <th>Dep. Variable:</th>       <td>sqft_living</td>   <th>  R-squared:         </th> <td>   0.677</td>\n",
       "</tr>\n",
       "<tr>\n",
       "  <th>Model:</th>                   <td>OLS</td>       <th>  Adj. R-squared:    </th> <td>   0.675</td>\n",
       "</tr>\n",
       "<tr>\n",
       "  <th>Method:</th>             <td>Least Squares</td>  <th>  F-statistic:       </th> <td>   310.9</td>\n",
       "</tr>\n",
       "<tr>\n",
       "  <th>Date:</th>             <td>Sun, 13 Jan 2019</td> <th>  Prob (F-statistic):</th> <td>1.47e-73</td>\n",
       "</tr>\n",
       "<tr>\n",
       "  <th>Time:</th>                 <td>08:55:34</td>     <th>  Log-Likelihood:    </th> <td> -2192.0</td>\n",
       "</tr>\n",
       "<tr>\n",
       "  <th>No. Observations:</th>      <td>   300</td>      <th>  AIC:               </th> <td>   4390.</td>\n",
       "</tr>\n",
       "<tr>\n",
       "  <th>Df Residuals:</th>          <td>   297</td>      <th>  BIC:               </th> <td>   4401.</td>\n",
       "</tr>\n",
       "<tr>\n",
       "  <th>Df Model:</th>              <td>     2</td>      <th>                     </th>     <td> </td>   \n",
       "</tr>\n",
       "<tr>\n",
       "  <th>Covariance Type:</th>      <td>nonrobust</td>    <th>                     </th>     <td> </td>   \n",
       "</tr>\n",
       "</table>\n",
       "<table class=\"simpletable\">\n",
       "<tr>\n",
       "        <td></td>           <th>coef</th>     <th>std err</th>      <th>t</th>      <th>P>|t|</th>  <th>[0.025</th>    <th>0.975]</th>  \n",
       "</tr>\n",
       "<tr>\n",
       "  <th>Intercept</th>     <td> 7.346e-08</td> <td> 3.72e-09</td> <td>   19.737</td> <td> 0.000</td> <td> 6.61e-08</td> <td> 8.08e-08</td>\n",
       "</tr>\n",
       "<tr>\n",
       "  <th>price</th>         <td>    0.0089</td> <td>    0.000</td> <td>   19.737</td> <td> 0.000</td> <td>    0.008</td> <td>    0.010</td>\n",
       "</tr>\n",
       "<tr>\n",
       "  <th>I(price ** 2)</th> <td>-9.656e-09</td> <td> 2.18e-09</td> <td>   -4.438</td> <td> 0.000</td> <td>-1.39e-08</td> <td>-5.37e-09</td>\n",
       "</tr>\n",
       "<tr>\n",
       "  <th>I(price ** 3)</th> <td> 7.329e-15</td> <td> 2.34e-15</td> <td>    3.131</td> <td> 0.002</td> <td> 2.72e-15</td> <td> 1.19e-14</td>\n",
       "</tr>\n",
       "</table>\n",
       "<table class=\"simpletable\">\n",
       "<tr>\n",
       "  <th>Omnibus:</th>       <td> 9.847</td> <th>  Durbin-Watson:     </th> <td>   2.247</td>\n",
       "</tr>\n",
       "<tr>\n",
       "  <th>Prob(Omnibus):</th> <td> 0.007</td> <th>  Jarque-Bera (JB):  </th> <td>  18.489</td>\n",
       "</tr>\n",
       "<tr>\n",
       "  <th>Skew:</th>          <td> 0.073</td> <th>  Prob(JB):          </th> <td>9.67e-05</td>\n",
       "</tr>\n",
       "<tr>\n",
       "  <th>Kurtosis:</th>      <td> 4.207</td> <th>  Cond. No.          </th> <td>7.83e+17</td>\n",
       "</tr>\n",
       "</table><br/><br/>Warnings:<br/>[1] Standard Errors assume that the covariance matrix of the errors is correctly specified.<br/>[2] The condition number is large, 7.83e+17. This might indicate that there are<br/>strong multicollinearity or other numerical problems."
      ],
      "text/plain": [
       "<class 'statsmodels.iolib.summary.Summary'>\n",
       "\"\"\"\n",
       "                            OLS Regression Results                            \n",
       "==============================================================================\n",
       "Dep. Variable:            sqft_living   R-squared:                       0.677\n",
       "Model:                            OLS   Adj. R-squared:                  0.675\n",
       "Method:                 Least Squares   F-statistic:                     310.9\n",
       "Date:                Sun, 13 Jan 2019   Prob (F-statistic):           1.47e-73\n",
       "Time:                        08:55:34   Log-Likelihood:                -2192.0\n",
       "No. Observations:                 300   AIC:                             4390.\n",
       "Df Residuals:                     297   BIC:                             4401.\n",
       "Df Model:                           2                                         \n",
       "Covariance Type:            nonrobust                                         \n",
       "=================================================================================\n",
       "                    coef    std err          t      P>|t|      [0.025      0.975]\n",
       "---------------------------------------------------------------------------------\n",
       "Intercept      7.346e-08   3.72e-09     19.737      0.000    6.61e-08    8.08e-08\n",
       "price             0.0089      0.000     19.737      0.000       0.008       0.010\n",
       "I(price ** 2) -9.656e-09   2.18e-09     -4.438      0.000   -1.39e-08   -5.37e-09\n",
       "I(price ** 3)  7.329e-15   2.34e-15      3.131      0.002    2.72e-15    1.19e-14\n",
       "==============================================================================\n",
       "Omnibus:                        9.847   Durbin-Watson:                   2.247\n",
       "Prob(Omnibus):                  0.007   Jarque-Bera (JB):               18.489\n",
       "Skew:                           0.073   Prob(JB):                     9.67e-05\n",
       "Kurtosis:                       4.207   Cond. No.                     7.83e+17\n",
       "==============================================================================\n",
       "\n",
       "Warnings:\n",
       "[1] Standard Errors assume that the covariance matrix of the errors is correctly specified.\n",
       "[2] The condition number is large, 7.83e+17. This might indicate that there are\n",
       "strong multicollinearity or other numerical problems.\n",
       "\"\"\""
      ]
     },
     "execution_count": 242,
     "metadata": {},
     "output_type": "execute_result"
    }
   ],
   "source": [
    "res2.summary()"
   ]
  },
  {
   "cell_type": "code",
   "execution_count": 93,
   "metadata": {},
   "outputs": [
    {
     "name": "stdout",
     "output_type": "stream",
     "text": [
      "                            OLS Regression Results                            \n",
      "==============================================================================\n",
      "Dep. Variable:                  price   R-squared:                       0.499\n",
      "Model:                            OLS   Adj. R-squared:                  0.499\n",
      "Method:                 Least Squares   F-statistic:                 1.076e+04\n",
      "Date:                Mon, 14 Jan 2019   Prob (F-statistic):               0.00\n",
      "Time:                        09:48:21   Log-Likelihood:            -3.0014e+05\n",
      "No. Observations:               21613   AIC:                         6.003e+05\n",
      "Df Residuals:                   21610   BIC:                         6.003e+05\n",
      "Df Model:                           2                                         \n",
      "Covariance Type:            nonrobust                                         \n",
      "===============================================================================\n",
      "                  coef    std err          t      P>|t|      [0.025      0.975]\n",
      "-------------------------------------------------------------------------------\n",
      "Intercept   -1.972e+05   1.05e+04    -18.829      0.000   -2.18e+05   -1.77e+05\n",
      "sqft_living   282.4525      1.928    146.485      0.000     278.673     286.232\n",
      "condition    4.394e+04   2721.410     16.144      0.000    3.86e+04    4.93e+04\n",
      "==============================================================================\n",
      "Omnibus:                    14863.109   Durbin-Watson:                   1.985\n",
      "Prob(Omnibus):                  0.000   Jarque-Bera (JB):           557323.673\n",
      "Skew:                           2.826   Prob(JB):                         0.00\n",
      "Kurtosis:                      27.227   Cond. No.                     1.38e+04\n",
      "==============================================================================\n",
      "\n",
      "Warnings:\n",
      "[1] Standard Errors assume that the covariance matrix of the errors is correctly specified.\n",
      "[2] The condition number is large, 1.38e+04. This might indicate that there are\n",
      "strong multicollinearity or other numerical problems.\n"
     ]
    }
   ],
   "source": [
    "model2 = ols(\"price ~ sqft_living + condition\", data_por).fit()   # zavisnost od dva faktora\n",
    "print(model2.summary())"
   ]
  },
  {
   "cell_type": "code",
   "execution_count": 94,
   "metadata": {},
   "outputs": [
    {
     "name": "stdout",
     "output_type": "stream",
     "text": [
      "                            OLS Regression Results                            \n",
      "==============================================================================\n",
      "Dep. Variable:                  price   R-squared:                       0.503\n",
      "Model:                            OLS   Adj. R-squared:                  0.503\n",
      "Method:                 Least Squares   F-statistic:                     7296.\n",
      "Date:                Mon, 14 Jan 2019   Prob (F-statistic):               0.00\n",
      "Time:                        09:55:19   Log-Likelihood:            -3.0004e+05\n",
      "No. Observations:               21613   AIC:                         6.001e+05\n",
      "Df Residuals:                   21609   BIC:                         6.001e+05\n",
      "Df Model:                           3                                         \n",
      "Covariance Type:            nonrobust                                         \n",
      "=========================================================================================\n",
      "                            coef    std err          t      P>|t|      [0.025      0.975]\n",
      "-----------------------------------------------------------------------------------------\n",
      "Intercept               8.58e+04   2.31e+04      3.707      0.000    4.04e+04    1.31e+05\n",
      "sqft_living             141.2631     10.486     13.471      0.000     120.709     161.817\n",
      "condition             -4.048e+04   6733.061     -6.012      0.000   -5.37e+04   -2.73e+04\n",
      "sqft_living:condition    42.3021      3.089     13.696      0.000      36.248      48.356\n",
      "==============================================================================\n",
      "Omnibus:                    14895.725   Durbin-Watson:                   1.987\n",
      "Prob(Omnibus):                  0.000   Jarque-Bera (JB):           574814.267\n",
      "Skew:                           2.826   Prob(JB):                         0.00\n",
      "Kurtosis:                      27.624   Cond. No.                     1.11e+05\n",
      "==============================================================================\n",
      "\n",
      "Warnings:\n",
      "[1] Standard Errors assume that the covariance matrix of the errors is correctly specified.\n",
      "[2] The condition number is large, 1.11e+05. This might indicate that there are\n",
      "strong multicollinearity or other numerical problems.\n"
     ]
    }
   ],
   "source": [
    "model3 = ols(\"price ~ sqft_living * condition\", data_por).fit()   # dva faktora + njihova interakcija (proizvod)\n",
    "print(model3.summary())"
   ]
  },
  {
   "cell_type": "code",
   "execution_count": null,
   "metadata": {},
   "outputs": [],
   "source": []
  }
 ],
 "metadata": {
  "kernelspec": {
   "display_name": "Python 3",
   "language": "python",
   "name": "python3"
  },
  "language_info": {
   "codemirror_mode": {
    "name": "ipython",
    "version": 3
   },
   "file_extension": ".py",
   "mimetype": "text/x-python",
   "name": "python",
   "nbconvert_exporter": "python",
   "pygments_lexer": "ipython3",
   "version": "3.7.0"
  }
 },
 "nbformat": 4,
 "nbformat_minor": 2
}
